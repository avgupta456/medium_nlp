{
 "cells": [
  {
   "cell_type": "markdown",
   "metadata": {},
   "source": [
    "## Sentiment Analysis\n",
    "\n",
    "In this notebook we'll see some tools to gauge the sentiment of a piece of text. This can be incredibly useful for analyzing reviews or responding appropriately to queries. Unlike other tasks, sentiment analysis depends heavily on punctuation, flow, and context. Therefore we do not apply our pre-processing pipeline, instead sending text directly to the models. Again, we will be using the Brown corpus provided through NLTK"
   ]
  },
  {
   "cell_type": "code",
   "execution_count": 1,
   "metadata": {},
   "outputs": [],
   "source": [
    "from nltk.corpus import brown\n",
    "\n",
    "corpus = brown\n",
    "\n",
    "categories = [\"adventure\", \"belles_lettres\", \"editorial\", \"fiction\", \"government\", \n",
    "              \"hobbies\", \"humor\", \"learned\", \"lore\", \"mystery\", \"news\", \"religion\",\n",
    "              \"reviews\", \"romance\", \"science_fiction\"]\n",
    "\n",
    "def get_texts(count, sentences):\n",
    "    out = []\n",
    "    for i in range(count):\n",
    "        text = [\" \".join(corpus.sents(categories=\"adventure\")[j]) for j in range(sentences*i, sentences*(i+1))]\n",
    "        text = \" \".join(text).replace(\" .\", \".\").replace(\" ?\", \"?\").replace(\" !\", \"!\")\n",
    "        out.append(text)\n",
    "    return out"
   ]
  },
  {
   "cell_type": "markdown",
   "metadata": {},
   "source": [
    "## Vader Sentiment\n",
    "\n",
    "VADER is a rule-based process for estimating the sentiment of a selection of text. VADER builds off of NLTK (and can also be imported through NLTK). Most importantly, it's super easy to use! Let's see a quick example:"
   ]
  },
  {
   "cell_type": "code",
   "execution_count": 2,
   "metadata": {},
   "outputs": [
    {
     "name": "stdout",
     "output_type": "stream",
     "text": [
      "{'neg': 0.0, 'neu': 0.508, 'pos': 0.492, 'compound': 0.5962}\n",
      "{'neg': 0.688, 'neu': 0.312, 'pos': 0.0, 'compound': -0.765}\n"
     ]
    }
   ],
   "source": [
    "from vaderSentiment.vaderSentiment import SentimentIntensityAnalyzer\n",
    "\n",
    "analyzer = SentimentIntensityAnalyzer()\n",
    "\n",
    "print(analyzer.polarity_scores(\"This class is my favorite!!!\"))\n",
    "print(analyzer.polarity_scores(\"I hate this class :(\"))"
   ]
  },
  {
   "cell_type": "markdown",
   "metadata": {},
   "source": [
    "The negative, neutral, and positive scores count the portion of the input in each category. They sum up to 1. Compound combines all three, and is the metric we will be looking at. Compound ranges from -1 (highly negative) to 1 (highly positive). Somewhat surprisingly, these two highly opinionated sentences don't register as highly positive or negative, though the general direction is correctly picked up. Let's see how VADER performs on some text from the corpus"
   ]
  },
  {
   "cell_type": "code",
   "execution_count": 3,
   "metadata": {},
   "outputs": [
    {
     "name": "stdout",
     "output_type": "stream",
     "text": [
      "Dan Morgan told himself he would forget Ann Turner. \n",
      " {'neg': 0.192, 'neu': 0.808, 'pos': 0.0, 'compound': -0.2263} \n",
      "\n",
      "He was well rid of her. \n",
      " {'neg': 0.0, 'neu': 0.704, 'pos': 0.296, 'compound': 0.2732} \n",
      "\n",
      "He certainly didn't want a wife who was fickle as Ann. \n",
      " {'neg': 0.097, 'neu': 0.713, 'pos': 0.19, 'compound': 0.291} \n",
      "\n",
      "If he had married her , he'd have been asking for trouble. \n",
      " {'neg': 0.197, 'neu': 0.803, 'pos': 0.0, 'compound': -0.4019} \n",
      "\n",
      "But all of this was rationalization. \n",
      " {'neg': 0.0, 'neu': 1.0, 'pos': 0.0, 'compound': 0.0} \n",
      "\n",
      "Sometimes he woke up in the middle of the night thinking of Ann , and then could not get back to sleep. \n",
      " {'neg': 0.0, 'neu': 1.0, 'pos': 0.0, 'compound': 0.0} \n",
      "\n"
     ]
    }
   ],
   "source": [
    "texts = get_texts(6, 1)\n",
    "for i in range(6):\n",
    "    print(texts[i], \"\\n\", analyzer.polarity_scores(texts[i]), \"\\n\")"
   ]
  },
  {
   "cell_type": "markdown",
   "metadata": {},
   "source": [
    "With such short examples, VADER is not able to get a good read of the sentiment, and outputs fairly conservative predictions. From my experiences, more text is needed for accurate assessment. Let's bump it up to four sentences per test."
   ]
  },
  {
   "cell_type": "code",
   "execution_count": 4,
   "metadata": {},
   "outputs": [
    {
     "name": "stdout",
     "output_type": "stream",
     "text": [
      "Dan Morgan told himself he would forget Ann Turner. He was well rid of her. He certainly didn't want a wife who was fickle as Ann. If he had married her , he'd have been asking for trouble. \n",
      " {'neg': 0.134, 'neu': 0.762, 'pos': 0.104, 'compound': -0.0829} \n",
      "\n",
      "But all of this was rationalization. Sometimes he woke up in the middle of the night thinking of Ann , and then could not get back to sleep. His plans and dreams had revolved around her so much and for so long that now he felt as if he had nothing. The easiest thing would be to sell out to Al Budd and leave the country , but there was a stubborn streak in him that wouldn't allow it. \n",
      " {'neg': 0.113, 'neu': 0.847, 'pos': 0.041, 'compound': -0.6482} \n",
      "\n",
      "The best antidote for the bitterness and disappointment that poisoned him was hard work. He found that if he was tired enough at night , he went to sleep simply because he was too exhausted to stay awake. Each day he found himself thinking less often of Ann ; ; each day the hurt was a little duller , a little less poignant. \n",
      " {'neg': 0.273, 'neu': 0.675, 'pos': 0.052, 'compound': -0.9393} \n",
      "\n",
      "He had plenty of work to do. Because the summer was unusually dry and hot , the spring produced a smaller stream than in ordinary years. The grass in the meadows came fast , now that the warm weather was here. He could not afford to lose a drop of the precious water , so he spent most of his waking hours along the ditches in his meadows. \n",
      " {'neg': 0.028, 'neu': 0.865, 'pos': 0.106, 'compound': 0.6964} \n",
      "\n"
     ]
    }
   ],
   "source": [
    "texts = get_texts(4, 4)\n",
    "for i in range(4):\n",
    "    print(texts[i], \"\\n\", analyzer.polarity_scores(texts[i]), \"\\n\")"
   ]
  },
  {
   "cell_type": "markdown",
   "metadata": {},
   "source": [
    "This looks much better. The first selection is neutral, somewhat negative. The next two are certainly negative, and the final sentences (independent of the other three) are fairly positive. VADER picks up on all of this. This is the ideal length of text for VADER. Let's take a quick look at an even longer passage."
   ]
  },
  {
   "cell_type": "code",
   "execution_count": 5,
   "metadata": {},
   "outputs": [
    {
     "name": "stdout",
     "output_type": "stream",
     "text": [
      "Dan Morgan told himself he would forget Ann Turner. He was well rid of her. He certainly didn't want a wife who was fickle as Ann. If he had married her , he'd have been asking for trouble. But all of this was rationalization. Sometimes he woke up in the middle of the night thinking of Ann , and then could not get back to sleep. His plans and dreams had revolved around her so much and for so long that now he felt as if he had nothing. The easiest thing would be to sell out to Al Budd and leave the country , but there was a stubborn streak in him that wouldn't allow it. The best antidote for the bitterness and disappointment that poisoned him was hard work. He found that if he was tired enough at night , he went to sleep simply because he was too exhausted to stay awake. Each day he found himself thinking less often of Ann ; ; each day the hurt was a little duller , a little less poignant. He had plenty of work to do. Because the summer was unusually dry and hot , the spring produced a smaller stream than in ordinary years. The grass in the meadows came fast , now that the warm weather was here. He could not afford to lose a drop of the precious water , so he spent most of his waking hours along the ditches in his meadows. \n",
      " {'neg': 0.155, 'neu': 0.767, 'pos': 0.078, 'compound': -0.9624} \n",
      "\n"
     ]
    }
   ],
   "source": [
    "text = get_texts(1, 16)[0]\n",
    "print(text, \"\\n\", analyzer.polarity_scores(text), \"\\n\")"
   ]
  },
  {
   "cell_type": "markdown",
   "metadata": {},
   "source": [
    "With such a large selection, it is difficult to give a single sentiment. As a result the Compound metric is saturated and misses out on the positive sentiment at the end of the paragraph. For these reasons, I recommend using VADER with smaller chunks. "
   ]
  },
  {
   "cell_type": "markdown",
   "metadata": {},
   "source": [
    "## TextBlob\n",
    "\n",
    "Another easy to use library is TextBlob. While Vader focuses solely on sentiment analysis, TextBlob is a full library similar to NLTK and Spacy. One advantage of the TextBlob Sentiment Analysis tool is the polarity/subjectivity breakdown. Let's compare outputs with the same inputs as above."
   ]
  },
  {
   "cell_type": "code",
   "execution_count": 6,
   "metadata": {},
   "outputs": [
    {
     "name": "stdout",
     "output_type": "stream",
     "text": [
      "Sentiment(polarity=0.9765625, subjectivity=1.0)\n",
      "Sentiment(polarity=-0.775, subjectivity=0.95)\n"
     ]
    }
   ],
   "source": [
    "from textblob import TextBlob\n",
    "\n",
    "testimonial = TextBlob(\"This class is my favorite!!!\")\n",
    "print(testimonial.sentiment)\n",
    "\n",
    "testimonial = TextBlob(\"I hate this class :(\")\n",
    "print(testimonial.sentiment)"
   ]
  },
  {
   "cell_type": "markdown",
   "metadata": {},
   "source": [
    "Again, notice how simple it is to import and use this package. Looking at the results, TextBlob reports stronger polarities than VADER for the same inputs. The subjectivity is also high as expected."
   ]
  },
  {
   "cell_type": "code",
   "execution_count": 7,
   "metadata": {},
   "outputs": [
    {
     "name": "stdout",
     "output_type": "stream",
     "text": [
      "Dan Morgan told himself he would forget Ann Turner. \n",
      " Sentiment(polarity=0.0, subjectivity=0.0) \n",
      "\n",
      "He was well rid of her. \n",
      " Sentiment(polarity=0.0, subjectivity=0.0) \n",
      "\n",
      "He certainly didn't want a wife who was fickle as Ann. \n",
      " Sentiment(polarity=0.21428571428571427, subjectivity=0.5714285714285714) \n",
      "\n",
      "If he had married her , he'd have been asking for trouble. \n",
      " Sentiment(polarity=0.024999999999999994, subjectivity=0.225) \n",
      "\n",
      "But all of this was rationalization. \n",
      " Sentiment(polarity=0.0, subjectivity=0.0) \n",
      "\n",
      "Sometimes he woke up in the middle of the night thinking of Ann , and then could not get back to sleep. \n",
      " Sentiment(polarity=0.0, subjectivity=0.0) \n",
      "\n"
     ]
    }
   ],
   "source": [
    "texts = get_texts(6, 1)\n",
    "for i in range(6):\n",
    "    blob = TextBlob(texts[i])\n",
    "    print(texts[i], \"\\n\", blob.sentiment, \"\\n\")"
   ]
  },
  {
   "cell_type": "markdown",
   "metadata": {},
   "source": [
    "Similar to VADER, TextBlob does not perform well on small sentences. More context is needed."
   ]
  },
  {
   "cell_type": "code",
   "execution_count": 8,
   "metadata": {},
   "outputs": [
    {
     "name": "stdout",
     "output_type": "stream",
     "text": [
      "Dan Morgan told himself he would forget Ann Turner. He was well rid of her. He certainly didn't want a wife who was fickle as Ann. If he had married her , he'd have been asking for trouble. \n",
      " Sentiment(polarity=0.0880952380952381, subjectivity=0.34047619047619043) \n",
      "\n",
      "But all of this was rationalization. Sometimes he woke up in the middle of the night thinking of Ann , and then could not get back to sleep. His plans and dreams had revolved around her so much and for so long that now he felt as if he had nothing. The easiest thing would be to sell out to Al Budd and leave the country , but there was a stubborn streak in him that wouldn't allow it. \n",
      " Sentiment(polarity=0.037500000000000006, subjectivity=0.15000000000000002) \n",
      "\n",
      "The best antidote for the bitterness and disappointment that poisoned him was hard work. He found that if he was tired enough at night , he went to sleep simply because he was too exhausted to stay awake. Each day he found himself thinking less often of Ann ; ; each day the hurt was a little duller , a little less poignant. \n",
      " Sentiment(polarity=-0.11666666666666668, subjectivity=0.42767857142857135) \n",
      "\n",
      "He had plenty of work to do. Because the summer was unusually dry and hot , the spring produced a smaller stream than in ordinary years. The grass in the meadows came fast , now that the warm weather was here. He could not afford to lose a drop of the precious water , so he spent most of his waking hours along the ditches in his meadows. \n",
      " Sentiment(polarity=0.18148148148148147, subjectivity=0.5833333333333334) \n",
      "\n"
     ]
    }
   ],
   "source": [
    "texts = get_texts(4, 4)\n",
    "for i in range(4):\n",
    "    blob = TextBlob(texts[i])\n",
    "    print(texts[i], \"\\n\", blob.sentiment, \"\\n\")"
   ]
  },
  {
   "cell_type": "markdown",
   "metadata": {},
   "source": [
    "The scale of TextBlob sentiments is slightly different than VADER, making it harder for strong polarities. TextBlob does differ slightly from VADER in marking the second selection positive. "
   ]
  },
  {
   "cell_type": "code",
   "execution_count": 9,
   "metadata": {},
   "outputs": [
    {
     "name": "stdout",
     "output_type": "stream",
     "text": [
      "Dan Morgan told himself he would forget Ann Turner. He was well rid of her. He certainly didn't want a wife who was fickle as Ann. If he had married her , he'd have been asking for trouble. But all of this was rationalization. Sometimes he woke up in the middle of the night thinking of Ann , and then could not get back to sleep. His plans and dreams had revolved around her so much and for so long that now he felt as if he had nothing. The easiest thing would be to sell out to Al Budd and leave the country , but there was a stubborn streak in him that wouldn't allow it. The best antidote for the bitterness and disappointment that poisoned him was hard work. He found that if he was tired enough at night , he went to sleep simply because he was too exhausted to stay awake. Each day he found himself thinking less often of Ann ; ; each day the hurt was a little duller , a little less poignant. \n",
      " Sentiment(polarity=-0.05187969924812029, subjectivity=0.35545112781954885) \n",
      "\n"
     ]
    }
   ],
   "source": [
    "text = get_texts(1, 12)[0]\n",
    "blob = TextBlob(text)\n",
    "print(text, \"\\n\", blob.sentiment, \"\\n\")"
   ]
  },
  {
   "cell_type": "markdown",
   "metadata": {},
   "source": [
    "Once again, such a large sample makes it difficult to accurately assess the polarity. I would recommend a smaller section.\n",
    "\n",
    "VADER and TextBlob are two out of the box solutions for sentiment analysis. However, special attention must be applied to reach peak performance. Thanks for reading!"
   ]
  }
 ],
 "metadata": {
  "kernelspec": {
   "display_name": "Python 3",
   "language": "python",
   "name": "python3"
  },
  "language_info": {
   "codemirror_mode": {
    "name": "ipython",
    "version": 3
   },
   "file_extension": ".py",
   "mimetype": "text/x-python",
   "name": "python",
   "nbconvert_exporter": "python",
   "pygments_lexer": "ipython3",
   "version": "3.7.6"
  }
 },
 "nbformat": 4,
 "nbformat_minor": 4
}
